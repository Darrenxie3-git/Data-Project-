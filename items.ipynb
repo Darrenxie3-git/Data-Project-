{
 "cells": [
  {
   "cell_type": "code",
   "execution_count": 1,
   "metadata": {
    "colab": {
     "base_uri": "https://localhost:8080/"
    },
    "id": "AXHq9Bwy9fad",
    "outputId": "e4298ad2-925c-4984-ba22-3eb1e60f8795"
   },
   "outputs": [
    {
     "name": "stdout",
     "output_type": "stream",
     "text": [
      "Drive already mounted at /content/drive; to attempt to forcibly remount, call drive.mount(\"/content/drive\", force_remount=True).\n"
     ]
    }
   ],
   "source": [
    "\n",
    "import time\n",
    "import re\n",
    "import os\n",
    "import tempfile\n",
    "import requests\n",
    "import json\n",
    "import os\n",
    "import pandas as pd\n",
    "from google.colab import drive\n",
    "from datetime import datetime\n",
    "from openpyxl import load_workbook\n",
    "from calendar import monthcalendar\n",
    "from openpyxl.styles import Font, Alignment, PatternFill, Border, Side\n",
    "from openpyxl.utils import get_column_letter\n",
    "drive.mount('/content/drive')\n",
    "import calendar\n",
    "from datetime import datetime, timedelta\n",
    "from collections import OrderedDict"
   ]
  },
  {
   "cell_type": "code",
   "execution_count": 2,
   "metadata": {
    "colab": {
     "base_uri": "https://localhost:8080/"
    },
    "id": "3hyFktfm-yTQ",
    "outputId": "62bc026a-3b56-466e-96c5-371459e69de8"
   },
   "outputs": [
    {
     "name": "stdout",
     "output_type": "stream",
     "text": [
      "['Nasi Lemak Lovers', 'Char Koay Teow + Chicken Satay + Bur Bur Cha Cha', 'KL Hokkien Char', 'Penang Assam Laksa', 'Beef Rendang with Nasi Lemak', 'Nasi Lemak combo with Beef Rendang and fried Chicken', 'Pandan Kaya (Coconut Jam)', 'Ondeh Ondeh', 'Kuih Ketayap (香兰椰丝卷)', 'Pulut Inti', 'Roti Canai with Curry sauce', 'Nasi Lemak with Fried Chicken + Chicken Satay + Bur Bur Cha Cha', 'Mamak Teh Tarik', 'Penang Char Koay Teow', 'Penang Hainanese Chicken Rice', 'Nasi Lemak with Sambal Seafood ', 'Malaysian Fried Chicken Wings (槟城炸鸡翅)', 'Chicken Satay', 'Sambal Okra and Eggplant', 'Wah Tan Hor', 'Sambal Kang Kung', 'Curry Laksa', 'Curry Chicken with Nasi Lemak', 'Pulut Tai Tai (3 piece)', 'Nasi Lemak Combo with Chicken Curry and Fried Chicken', 'Mee Goreng', 'Sambal Three King with Shrimp and Calamari', 'Chicken Curry Puff', 'Ang Ku Kuih', 'Ikan Bakar (Grilled Fish) with stream rice + Malaysian Fried Chicken Wings + Pulut Inti ', 'Ikan Bakar (Grilled Fish)', 'Peanut Cookies (贡糖)', 'Bah Kut Teh with steam rice +  Malaysian Fried Chicken Wings + Pulut Inti', 'Penang Spicy Prawn Noodles', 'Ikan Bakar (Grilled Fish) with steam rice + Malaysian Fried Chicken Wings + Pulut Inti ', 'Curry Laksa with steam rice + Malaysian Fried Chicken Wings + Pulut Inti', 'Fish Curry', 'Bubur Cha Cha', 'Assorted Ku Kuih', 'Penang Koay Teow Theng', 'Ang Ku Kuih (Yellow Mung Bean)', 'Green Ku Kuih (Grated Coconut)', 'Penang Chendol', 'Nyoya Pie Tee Cup', 'Biscuits Sakima', 'Nasi Lemak Bungkus', 'Bah Kut Teh', 'Orange Ku Kuih (Peanuts)', 'Penang Wontan Mee', 'Leng Chee Kang ( Lotus sweet dessert) 四果湯', 'Sambal Sauce', 'Hainanese Chicken Rice + Pie Tee Cup + Leng Chee Kang', 'Yummy Platter', 'Shrimps and Calamari fried Vermicelli', 'Roti Jala with Curry Chicken', 'Curry Fish Balls', 'Curry Chicken with Nasi Lemak + Pie Tee Cup + Leng Chee Kang', 'Asam Curry Fish', 'Sambal Okra with Eggplant + Pie Tee Cup + Leng Chee Kang', 'Chee Cheong fun', 'Nasi Lemak with Fried Chicken']\n",
      "[2, 1, 5, 7, 4, 5, 1, 17, 13, 1, 10, 1, 3, 29, 32, 5, 8, 7, 3, 12, 5, 4, 1, 2, 3, 6, 2, 28, 7, 2, 2, 2, 4, 13, 8, 6, 2, 3, 7, 5, 12, 7, 1, 11, 1, 3, 3, 3, 9, 2, 1, 3, 1, 2, 1, 1, 2, 1, 1, 1, 1]\n"
     ]
    }
   ],
   "source": [
    "def get_food_orders_summary(month, year, email, password):\n",
    "    food = OrderedDict()\n",
    "    # Login and get token\n",
    "    login_url = \"https://admin.nompenang.com/auth/login\"\n",
    "    payload = {\"email\": email, \"password\": password}\n",
    "\n",
    "    session = requests.Session()\n",
    "    response = session.post(login_url, json=payload)\n",
    "    token = response.json()['data']['access_token']\n",
    "\n",
    "    # Fetch orders\n",
    "    orders_url = \"https://admin.nompenang.com/items/orders\"\n",
    "    headers = {\"Authorization\": f\"Bearer {token}\"}\n",
    "    params = {\n",
    "        \"fields\": \"id,order_number,customer_name,customer_phone,delivery_method,status,date_created,schedule_date,schedule_time,total_amount,payment_method,delivery_address\",\n",
    "        \"limit\": 500\n",
    "    }\n",
    "\n",
    "    response = session.get(orders_url, headers=headers, params=params)\n",
    "    data = response.json()\n",
    "    orders = data['data']\n",
    "\n",
    "    # Filter completed orders for the specified date\n",
    "    completed_order_numbers = [\n",
    "      order for order in orders\n",
    "      if datetime.strptime(order['schedule_date'], '%Y-%m-%d').month == month and\n",
    "        datetime.strptime(order['schedule_date'], '%Y-%m-%d').year == year and\n",
    "        order['status'] != 'cancelled']\n",
    "\n",
    "    items_id= [order['id'] for order in completed_order_numbers]\n",
    "    # Fetch order items\n",
    "    item_url = \"https://admin.nompenang.com/items/order_items\"\n",
    "    item_params = {\n",
    "        \"fields\": \"id,item_name,quantity,total_price\",\n",
    "        \"filter\": f'{{\"order_id\":{{\"_in\":{items_id}}}}}',\n",
    "        \"limit\": 500\n",
    "    }\n",
    "\n",
    "    item_response = session.get(item_url, headers=headers, params=item_params)\n",
    "    item_data = item_response.json()\n",
    "    items = item_data['data']\n",
    "\n",
    "    # Count food items\n",
    "    for item in items:\n",
    "        item_name = item['item_name']\n",
    "        quantity = item['quantity']\n",
    "\n",
    "        if item_name in food:\n",
    "            food[item_name] += quantity\n",
    "        else:\n",
    "            food[item_name] = quantity\n",
    "\n",
    "    # Convert to lists for return\n",
    "    food_items = list(food.keys())\n",
    "    quantities = list(food.values())\n",
    "\n",
    "    return food_items, quantities\n",
    "\n"
   ]
  },
  {
   "cell_type": "code",
   "execution_count": 25,
   "metadata": {
    "id": "g29c_OL7ATtd"
   },
   "outputs": [],
   "source": [
    "def workbook (year, month, email, password):\n",
    "\n",
    "  workbook = load_workbook('/content/drive/MyDrive/Colab_Notebooks/Sales Data.xlsx')\n",
    "  center_align = Alignment(horizontal='center', vertical='center', wrap_text=True) #Alignment for Excel\n",
    "  full_month_name = calendar.month_name[month] # Covert int month to str Month\n",
    "  sheet_name = f\"{full_month_name} Item Sales\" # Name of the Excel Worksheet\n",
    "\n",
    "  if sheet_name in workbook.sheetnames: # Select worksheet if exists\n",
    "\n",
    "      ws = workbook[f\"{full_month_name} Item Sales\"]\n",
    "\n",
    "  else:        # Else create new sheet\n",
    "\n",
    "      ws = workbook.create_sheet(f\"{full_month_name} Item Sales\")\n",
    "\n",
    "  ws['A1'] = f\"{full_month_name}\" # title for Table\n",
    "  ws['A1'].alignment = center_align\n",
    "  ws['A1'].font = Font(bold=True)\n",
    "  ws.merge_cells('A1:B1')\n",
    "  current_row = 2 # Start row for Headers\n",
    "  current_week = 1 # Start of the month starts on Week 1\n",
    "  header = ['Items','Quantity']\n",
    "\n",
    "  for col, header in enumerate(header, 1): #start column count at 1 because excel counts starting at 1 instead of 0\n",
    "\n",
    "          cell = ws.cell(row = current_row, column = col, value = header)\n",
    "          cell.alignment = center_align\n",
    "\n",
    "  current_row += 1  # One row after header\n",
    "  food_items, quantities = get_food_orders_summary(month, year, email, password)\n",
    "  food_items_sorted, quantities_sorted = zip(*sorted(zip(food_items, quantities),\n",
    "                                                     key=lambda x: x[1], reverse=True)) #Sort list before putting in excel because openpxyl does not have a native sort function\n",
    "\n",
    "  for item, quantity in zip(food_items_sorted, quantities_sorted):\n",
    "\n",
    "      item_cell = ws.cell(row=current_row, column=1, value=item)\n",
    "      item_cell.alignment = center_align\n",
    "      quantity_cell = ws.cell(row=current_row, column=2, value=quantity)\n",
    "      quantity_cell.alignment = center_align\n",
    "      current_row += 1\n",
    "\n",
    "  total_cell = ws.cell(row=current_row, column=1)\n",
    "  total_cell.alignment = center_align\n",
    "  total_cell.value = \"Total\"\n",
    "  total_quantities_cell = ws.cell(row=current_row, column=2)\n",
    "  total_quantities_cell.alignment = center_align\n",
    "  total_quantities_cell.value = sum(quantities_sorted)\n",
    "  ws.column_dimensions['A'].width = 30\n",
    "\n",
    "  return workbook\n"
   ]
  },
  {
   "cell_type": "code",
   "execution_count": 26,
   "metadata": {
    "colab": {
     "base_uri": "https://localhost:8080/"
    },
    "id": "GTBiSclVPiXD",
    "outputId": "6e2de571-aeee-41c2-e104-07e9657ead97"
   },
   "outputs": [
    {
     "name": "stdout",
     "output_type": "stream",
     "text": [
      "Descending list1: ('Penang Hainanese Chicken Rice', 'Penang Char Koay Teow', 'Chicken Curry Puff', 'Ondeh Ondeh', 'Kuih Ketayap (香兰椰丝卷)', 'Penang Spicy Prawn Noodles', 'Wah Tan Hor', 'Ang Ku Kuih (Yellow Mung Bean)', 'Nyoya Pie Tee Cup', 'Roti Canai with Curry sauce', 'Penang Wontan Mee', 'Malaysian Fried Chicken Wings (槟城炸鸡翅)', 'Ikan Bakar (Grilled Fish) with steam rice + Malaysian Fried Chicken Wings + Pulut Inti ', 'Penang Assam Laksa', 'Chicken Satay', 'Ang Ku Kuih', 'Assorted Ku Kuih', 'Green Ku Kuih (Grated Coconut)', 'Mee Goreng', 'Curry Laksa with steam rice + Malaysian Fried Chicken Wings + Pulut Inti', 'KL Hokkien Char', 'Nasi Lemak combo with Beef Rendang and fried Chicken', 'Nasi Lemak with Sambal Seafood ', 'Sambal Kang Kung', 'Penang Koay Teow Theng', 'Beef Rendang with Nasi Lemak', 'Curry Laksa', 'Bah Kut Teh with steam rice +  Malaysian Fried Chicken Wings + Pulut Inti', 'Mamak Teh Tarik', 'Sambal Okra and Eggplant', 'Nasi Lemak Combo with Chicken Curry and Fried Chicken', 'Bubur Cha Cha', 'Nasi Lemak Bungkus', 'Bah Kut Teh', 'Orange Ku Kuih (Peanuts)', 'Hainanese Chicken Rice + Pie Tee Cup + Leng Chee Kang', 'Nasi Lemak Lovers', 'Pulut Tai Tai (3 piece)', 'Sambal Three King with Shrimp and Calamari', 'Ikan Bakar (Grilled Fish) with stream rice + Malaysian Fried Chicken Wings + Pulut Inti ', 'Ikan Bakar (Grilled Fish)', 'Peanut Cookies (贡糖)', 'Fish Curry', 'Leng Chee Kang ( Lotus sweet dessert) 四果湯', 'Shrimps and Calamari fried Vermicelli', 'Curry Chicken with Nasi Lemak + Pie Tee Cup + Leng Chee Kang', 'Char Koay Teow + Chicken Satay + Bur Bur Cha Cha', 'Pandan Kaya (Coconut Jam)', 'Pulut Inti', 'Nasi Lemak with Fried Chicken + Chicken Satay + Bur Bur Cha Cha', 'Curry Chicken with Nasi Lemak', 'Penang Chendol', 'Biscuits Sakima', 'Sambal Sauce', 'Yummy Platter', 'Roti Jala with Curry Chicken', 'Curry Fish Balls', 'Asam Curry Fish', 'Sambal Okra with Eggplant + Pie Tee Cup + Leng Chee Kang', 'Chee Cheong fun', 'Nasi Lemak with Fried Chicken')\n",
      "Descending list2: (32, 29, 28, 17, 13, 13, 12, 12, 11, 10, 9, 8, 8, 7, 7, 7, 7, 7, 6, 6, 5, 5, 5, 5, 5, 4, 4, 4, 3, 3, 3, 3, 3, 3, 3, 3, 2, 2, 2, 2, 2, 2, 2, 2, 2, 2, 1, 1, 1, 1, 1, 1, 1, 1, 1, 1, 1, 1, 1, 1, 1)\n",
      "October None \n",
      "Items Quantity \n",
      "Penang Hainanese Chicken Rice 32 \n",
      "Penang Char Koay Teow 29 \n",
      "Chicken Curry Puff 28 \n",
      "Ondeh Ondeh 17 \n",
      "Kuih Ketayap (香兰椰丝卷) 13 \n",
      "Penang Spicy Prawn Noodles 13 \n",
      "Wah Tan Hor 12 \n",
      "Ang Ku Kuih (Yellow Mung Bean) 12 \n",
      "Nyoya Pie Tee Cup 11 \n",
      "Roti Canai with Curry sauce 10 \n",
      "Penang Wontan Mee 9 \n",
      "Malaysian Fried Chicken Wings (槟城炸鸡翅) 8 \n",
      "Ikan Bakar (Grilled Fish) with steam rice + Malaysian Fried Chicken Wings + Pulut Inti  8 \n",
      "Penang Assam Laksa 7 \n",
      "Chicken Satay 7 \n",
      "Ang Ku Kuih 7 \n",
      "Assorted Ku Kuih 7 \n",
      "Green Ku Kuih (Grated Coconut) 7 \n",
      "Mee Goreng 6 \n",
      "Curry Laksa with steam rice + Malaysian Fried Chicken Wings + Pulut Inti 6 \n",
      "KL Hokkien Char 5 \n",
      "Nasi Lemak combo with Beef Rendang and fried Chicken 5 \n",
      "Nasi Lemak with Sambal Seafood  5 \n",
      "Sambal Kang Kung 5 \n",
      "Penang Koay Teow Theng 5 \n",
      "Beef Rendang with Nasi Lemak 4 \n",
      "Curry Laksa 4 \n",
      "Bah Kut Teh with steam rice +  Malaysian Fried Chicken Wings + Pulut Inti 4 \n",
      "Mamak Teh Tarik 3 \n",
      "Sambal Okra and Eggplant 3 \n",
      "Nasi Lemak Combo with Chicken Curry and Fried Chicken 3 \n",
      "Bubur Cha Cha 3 \n",
      "Nasi Lemak Bungkus 3 \n",
      "Bah Kut Teh 3 \n",
      "Orange Ku Kuih (Peanuts) 3 \n",
      "Hainanese Chicken Rice + Pie Tee Cup + Leng Chee Kang 3 \n",
      "Nasi Lemak Lovers 2 \n",
      "Pulut Tai Tai (3 piece) 2 \n",
      "Sambal Three King with Shrimp and Calamari 2 \n",
      "Ikan Bakar (Grilled Fish) with stream rice + Malaysian Fried Chicken Wings + Pulut Inti  2 \n",
      "Ikan Bakar (Grilled Fish) 2 \n",
      "Peanut Cookies (贡糖) 2 \n",
      "Fish Curry 2 \n",
      "Leng Chee Kang ( Lotus sweet dessert) 四果湯 2 \n",
      "Shrimps and Calamari fried Vermicelli 2 \n",
      "Curry Chicken with Nasi Lemak + Pie Tee Cup + Leng Chee Kang 2 \n",
      "Char Koay Teow + Chicken Satay + Bur Bur Cha Cha 1 \n",
      "Pandan Kaya (Coconut Jam) 1 \n",
      "Pulut Inti 1 \n",
      "Nasi Lemak with Fried Chicken + Chicken Satay + Bur Bur Cha Cha 1 \n",
      "Curry Chicken with Nasi Lemak 1 \n",
      "Penang Chendol 1 \n",
      "Biscuits Sakima 1 \n",
      "Sambal Sauce 1 \n",
      "Yummy Platter 1 \n",
      "Roti Jala with Curry Chicken 1 \n",
      "Curry Fish Balls 1 \n",
      "Asam Curry Fish 1 \n",
      "Sambal Okra with Eggplant + Pie Tee Cup + Leng Chee Kang 1 \n",
      "Chee Cheong fun 1 \n",
      "Nasi Lemak with Fried Chicken 1 \n",
      "Total 345 \n",
      "File saved successfully!\n"
     ]
    }
   ],
   "source": [
    "month = 10\n",
    "year = 2025\n",
    "email= '#####' #redacted\n",
    "password= '######' #redacted\n",
    "workbook = workbook(year, month, email, password)\n",
    "workbook.save('/content/temp_sales_data.xlsx')\n",
    "!cp '/content/temp_sales_data.xlsx' '/content/drive/MyDrive/Colab_Notebooks/Sales Data.xlsx' #bash\n",
    "print(\"File saved successfully!\")"
   ]
  },
  {
   "cell_type": "code",
   "execution_count": null,
   "metadata": {
    "id": "Cz5lQJzOZEqr"
   },
   "outputs": [],
   "source": []
  }
 ],
 "metadata": {
  "colab": {
   "provenance": []
  },
  "kernelspec": {
   "display_name": "Python 3 (ipykernel)",
   "language": "python",
   "name": "python3"
  },
  "language_info": {
   "codemirror_mode": {
    "name": "ipython",
    "version": 3
   },
   "file_extension": ".py",
   "mimetype": "text/x-python",
   "name": "python",
   "nbconvert_exporter": "python",
   "pygments_lexer": "ipython3",
   "version": "3.12.4"
  }
 },
 "nbformat": 4,
 "nbformat_minor": 4
}
