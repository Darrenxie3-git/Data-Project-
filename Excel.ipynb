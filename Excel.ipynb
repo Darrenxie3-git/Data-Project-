{
 "cells": [
  {
   "cell_type": "code",
   "execution_count": 1,
   "metadata": {
    "colab": {
     "base_uri": "https://localhost:8080/"
    },
    "id": "xwqDk90tG-XP",
    "outputId": "e6835b6e-ffaa-445b-e3a5-92143a83275d"
   },
   "outputs": [
    {
     "name": "stdout",
     "output_type": "stream",
     "text": [
      "Requirement already satisfied: ordered-set in /usr/local/lib/python3.12/dist-packages (4.1.0)\n",
      "Requirement already satisfied: fpdf2 in /usr/local/lib/python3.12/dist-packages (2.8.4)\n",
      "Requirement already satisfied: pdf2image in /usr/local/lib/python3.12/dist-packages (1.17.0)\n",
      "Requirement already satisfied: openpyxl in /usr/local/lib/python3.12/dist-packages (3.1.5)\n",
      "Requirement already satisfied: defusedxml in /usr/local/lib/python3.12/dist-packages (from fpdf2) (0.7.1)\n",
      "Requirement already satisfied: Pillow!=9.2.*,>=8.0.0 in /usr/local/lib/python3.12/dist-packages (from fpdf2) (11.3.0)\n",
      "Requirement already satisfied: fonttools>=4.34.0 in /usr/local/lib/python3.12/dist-packages (from fpdf2) (4.60.1)\n",
      "Requirement already satisfied: et-xmlfile in /usr/local/lib/python3.12/dist-packages (from openpyxl) (2.0.0)\n"
     ]
    }
   ],
   "source": [
    "!pip install ordered-set fpdf2 pdf2image  openpyxl"
   ]
  },
  {
   "cell_type": "code",
   "execution_count": 2,
   "metadata": {
    "cellView": "form",
    "colab": {
     "base_uri": "https://localhost:8080/"
    },
    "id": "vf2_Ssp7HKwL",
    "outputId": "7a065f2d-39c6-4f90-fb42-74cf55f55b54"
   },
   "outputs": [
    {
     "name": "stdout",
     "output_type": "stream",
     "text": [
      "Drive already mounted at /content/drive; to attempt to forcibly remount, call drive.mount(\"/content/drive\", force_remount=True).\n"
     ]
    }
   ],
   "source": [
    "# @title IMPORTS\n",
    "\n",
    "from ordered_set import OrderedSet\n",
    "import time\n",
    "import re\n",
    "import os\n",
    "import tempfile\n",
    "import requests\n",
    "import json\n",
    "from fpdf import FPDF\n",
    "from base64 import b64encode\n",
    "from IPython.display import display, HTML\n",
    "import os\n",
    "import pandas as pd\n",
    "from google.colab import drive\n",
    "from datetime import datetime\n",
    "from openpyxl import load_workbook\n",
    "from calendar import monthcalendar\n",
    "from openpyxl.styles import Font, Alignment, PatternFill, Border, Side\n",
    "from openpyxl.utils import get_column_letter\n",
    "drive.mount('/content/drive')\n",
    "import calendar\n",
    "from datetime import datetime, timedelta\n"
   ]
  },
  {
   "cell_type": "code",
   "execution_count": 3,
   "metadata": {
    "cellView": "form",
    "id": "rYns0GvzHIc7"
   },
   "outputs": [],
   "source": [
    "# @title hidden APi calls\n",
    "\n",
    "def get_food_orders_summary(date,email,password):\n",
    "\n",
    "\n",
    "\n",
    "    # Login and get token\n",
    "    login_url = \"https://admin.nompenang.com/auth/login\"\n",
    "    payload = {\"email\": email, \"password\": password}\n",
    "\n",
    "    session = requests.Session()\n",
    "    response = session.post(login_url, json=payload)\n",
    "    token = response.json()['data']['access_token']\n",
    "\n",
    "    # Fetch orders\n",
    "    orders_url = \"https://admin.nompenang.com/items/orders\"\n",
    "    headers = {\"Authorization\": f\"Bearer {token}\"}\n",
    "    params = {\n",
    "        \"fields\": \"id,order_number, customer_name, customer_phone, delivery_method, status, date_created, schedule_date, schedule_time, total_amount, payment_method, delivery_address\",\n",
    "        \"limit\": 500\n",
    "    }\n",
    "\n",
    "    response = session.get(orders_url, headers=headers, params=params)\n",
    "    data = response.json()\n",
    "    orders = data['data']\n",
    "\n",
    "    Dates = [\n",
    "    datetime.strptime(order['schedule_date'], '%Y-%m-%d')\n",
    "    for order in orders\n",
    "    ]\n",
    "    target_date = datetime.strptime(date, '%Y-%m-%d')\n",
    "\n",
    "    completed_order_numbers = [\n",
    "        order for order in orders\n",
    "        if order['schedule_date'] == date and order['status'] != 'cancelled'\n",
    "    ]\n",
    "    list_of_order_numbers = [order['id'] for order in completed_order_numbers]\n",
    "    total_amount = sum(float(order['total_amount']) for order in completed_order_numbers)\n",
    "\n",
    "    return total_amount\n",
    "\n"
   ]
  },
  {
   "cell_type": "code",
   "execution_count": 4,
   "metadata": {
    "id": "pnaDe3irWAqZ"
   },
   "outputs": [],
   "source": [
    "\n",
    "\n",
    "def get_weeks_of_month(year, month): # emulates monthcal, but returns a list of dicts\n",
    "    \"\"\"Get all weeks of the specified month\"\"\"\n",
    "    cal = calendar.monthcalendar(year, month)\n",
    "    weeks = []\n",
    "\n",
    "    for week in cal:\n",
    "        week_days = []\n",
    "        for day in week:\n",
    "            if day == 0:  # Day belongs to previous/next month\n",
    "                week_days.append(None)\n",
    "            else:\n",
    "\n",
    "                date = datetime(year, month, day)\n",
    "                formatted_date = date.strftime('%Y-%m-%d')\n",
    "                day_name = calendar.day_name[date.weekday()]\n",
    "                week_days.append({\n",
    "                    'formatted_date': formatted_date,\n",
    "                    'day_number': day,\n",
    "                    'day_name': day_name,\n",
    "                    'date_obj': date\n",
    "                })\n",
    "        weeks.append(week_days)\n",
    "    return weeks\n",
    "\n"
   ]
  },
  {
   "cell_type": "code",
   "execution_count": 5,
   "metadata": {
    "id": "vzlPVMPQo4O1"
   },
   "outputs": [],
   "source": [
    "def workbook (year, month, weeks, email, password):\n",
    "  workbook = load_workbook('/content/drive/MyDrive/Colab_Notebooks/Sales Data.xlsx')\n",
    "  center_align = Alignment(horizontal='center', vertical='center') #Alignment for Excel\n",
    "  full_month_name = calendar.month_name[month] # Covert int month to str Month\n",
    "  sheet_name = f\"{full_month_name} Online Sales\" # Name of the Excel Worksheet\n",
    "  dark_fill = PatternFill(start_color=\"366092\",  # Dark blue\n",
    "                       end_color=\"366092\",\n",
    "                       fill_type=\"solid\")\n",
    "  if sheet_name in workbook.sheetnames: # Select worksheet if exists\n",
    "\n",
    "      ws = workbook[f\"{full_month_name} Online Sales\"]\n",
    "\n",
    "  else:        # Else create new sheet\n",
    "\n",
    "      ws = workbook.create_sheet(f\"{full_month_name} Online Sales\")\n",
    "\n",
    "\n",
    "\n",
    "  ws['A1'] = f\"{full_month_name}\" #title for Table\n",
    "  current_row = 2 # Start row for Headers\n",
    "  current_week = 1 # Start of the month starts on Week 1\n",
    "  days_of_the_week = ['Day of the Week', 'Monday', 'Tuesday', 'Wednesday', 'Thursday', 'Friday', 'Saturday', 'Sunday']\n",
    "  currency_format = '$#,##0.00' #custom currency format for excel\n",
    "\n",
    "  for col, header in enumerate(days_of_the_week, 1): #start column count at 1 because excel counts starting at 1 instead of 0\n",
    "\n",
    "          cell = ws.cell(row=current_row, column=col, value = header)\n",
    "          cell.alignment = center_align\n",
    "\n",
    "  current_row += 1  # One row after header\n",
    "\n",
    "\n",
    "\n",
    "  for i, week in enumerate(weeks, 1): # Loops for each week in the month and titles each row as that specific week\n",
    "\n",
    "    week_cell = ws.cell(row=current_row, column=1)\n",
    "    week_cell.alignment = center_align\n",
    "    week_cell.font = Font(bold=True)\n",
    "    week_cell.value = f\"Week {current_week}\"\n",
    "    current_column = 2 # Sets the starting postion to Monday every week\n",
    "\n",
    "    for day_info in week:\n",
    "\n",
    "              cell = ws.cell(row = current_row, column = current_column) # create cell object so can be modified later\n",
    "              if day_info != None: # If day info does exist get sales for the day\n",
    "\n",
    "                  total_amount = get_food_orders_summary(day_info['formatted_date'], email, password)\n",
    "                  cell.value = round((total_amount), 2) # Round up for currencies\n",
    "                  cell.alignment = center_align  # Formatting\n",
    "                  cell.number_format = currency_format # Formatting\n",
    "\n",
    "              else:\n",
    "\n",
    "                  cell.value = '' # blank value to signify days that are not in the month\n",
    "                  cell.alignment = center_align # Formatting\n",
    "                  cell.fill = dark_fill\n",
    "              current_column+=1 # Everytime it looks it moves to the next column/day\n",
    "\n",
    "    current_week += 1\n",
    "    current_row += 1 # Everytime it loops it moves to the next row and week\n",
    "\n",
    "  for col in range(2, 9):\n",
    "\n",
    "      start_row = 3\n",
    "      end_row = current_row - 1\n",
    "      formula = f\"=SUM({get_column_letter(col)}{start_row}:{get_column_letter(col)}{end_row})\"\n",
    "      cell = ws.cell(row=8, column=col, value = formula)\n",
    "      cell.font = Font(bold=True)\n",
    "      cell.alignment = center_align\n",
    "\n",
    "  ws['I8'] = '=SUM(B3:H7)' #Grand total for month\n",
    "  ws.sheet_format.defaultColWidth = 20 # Formatting for creation of new cells\n",
    "\n",
    "  for col in range(1, ws.max_column + 1): # Formatting for already populated cells\n",
    "\n",
    "      col_letter = get_column_letter(col)\n",
    "      ws.column_dimensions[col_letter].width = 20\n",
    "\n",
    "  ws.merge_cells('A1:H1') # Title\n",
    "  ws['A1'].alignment = center_align  # Formatting\n",
    "  ws['A1'].font = Font(bold=True, size=16, color=\"1F4E78\") # Formatting\n",
    "  ws['I8'].alignment = center_align\n",
    "  ws['I8'].number_format = currency_format # Formatting\n",
    "\n",
    "  for row in ws.iter_rows(): # Border Formatting\n",
    "\n",
    "          for cell in row:\n",
    "\n",
    "            cell.font = Font(size=13)\n",
    "            cell.border = Border(left=Side(style='thin'),\n",
    "                              right=Side(style='thin'),\n",
    "                              top=Side(style='thin'),\n",
    "                              bottom=Side(style='thin'))\n",
    "\n",
    "            if cell.row > 8 or cell.column > 9 : #reset borders if cells are beyond max columns\n",
    "\n",
    "              cell.border = Border()\n",
    "\n",
    "  return workbook\n"
   ]
  },
  {
   "cell_type": "code",
   "execution_count": 7,
   "metadata": {
    "colab": {
     "base_uri": "https://localhost:8080/"
    },
    "id": "OiaUUrFJU15v",
    "outputId": "62000f20-e8e1-43a6-b578-a56ef3f924a1"
   },
   "outputs": [
    {
     "name": "stdout",
     "output_type": "stream",
     "text": [
      "File saved successfully!\n"
     ]
    }
   ],
   "source": [
    "year = 2025 # Year\n",
    "month = 9 # Month in int\n",
    "email = '#######' #redacted \n",
    "password ='#######' #redacted\n",
    "weeks = get_weeks_of_month(year, month) # List of dicts for totals.\n",
    "workbook = workbook(year , month, weeks, email, password)\n",
    "workbook.save('/content/temp_sales_data.xlsx')\n",
    "!cp '/content/temp_sales_data.xlsx' '/content/drive/MyDrive/Colab_Notebooks/Sales Data.xlsx' #bash in colab\n",
    "print(\"File saved successfully!\")"
   ]
  }
 ],
 "metadata": {
  "colab": {
   "provenance": []
  },
  "kernelspec": {
   "display_name": "Python 3 (ipykernel)",
   "language": "python",
   "name": "python3"
  },
  "language_info": {
   "codemirror_mode": {
    "name": "ipython",
    "version": 3
   },
   "file_extension": ".py",
   "mimetype": "text/x-python",
   "name": "python",
   "nbconvert_exporter": "python",
   "pygments_lexer": "ipython3",
   "version": "3.12.4"
  }
 },
 "nbformat": 4,
 "nbformat_minor": 4
}
